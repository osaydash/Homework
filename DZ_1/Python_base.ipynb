{
 "cells": [
  {
   "cell_type": "markdown",
   "metadata": {},
   "source": [
    "# Задание 1"
   ]
  },
  {
   "cell_type": "code",
   "execution_count": 11,
   "metadata": {},
   "outputs": [
    {
     "name": "stdout",
     "output_type": "stream",
     "text": [
      "Фраза 1 длиннее фразы 2\n"
     ]
    }
   ],
   "source": [
    "phrase_1='Екатерина очень любит фильмы про животных'\n",
    "phrase_2='Антон поедет на рыбалку на выходных'\n",
    "if len(phrase_1)>len(phrase_2):\n",
    "    print('Фраза 1 длиннее фразы 2')\n",
    "elif len(phrase_1)<len(phrase_2):\n",
    "    print('Фраза 2 длиннее фразы 1')\n",
    "else:\n",
    "    print('Фразы одинаковой длины')"
   ]
  },
  {
   "cell_type": "markdown",
   "metadata": {},
   "source": [
    "# Задание 2"
   ]
  },
  {
   "cell_type": "code",
   "execution_count": 15,
   "metadata": {},
   "outputs": [
    {
     "name": "stdout",
     "output_type": "stream",
     "text": [
      "Високосный год\n"
     ]
    }
   ],
   "source": [
    "year=2020\n",
    "if (year%4==0) and (year%100!=0) or (year%400==0):\n",
    "    print('Високосный год')\n",
    "else:\n",
    "    print('Обычный год')"
   ]
  },
  {
   "cell_type": "markdown",
   "metadata": {},
   "source": [
    "# Задание 3"
   ]
  },
  {
   "cell_type": "code",
   "execution_count": 59,
   "metadata": {},
   "outputs": [
    {
     "name": "stdout",
     "output_type": "stream",
     "text": [
      "Введите день рождения 22\n",
      "Введите месяц рождения Июль\n",
      "Рак\n"
     ]
    }
   ],
   "source": [
    "a=int(input('Введите день рождения '))\n",
    "b=str(input('Введите месяц рождения '))\n",
    "\n",
    "if (21<=a<=31 and b=='Март') or (1<=a<=19 and b=='Апрель'):\n",
    "    print('Овен')\n",
    "\n",
    "elif (20<=a<=30 and b=='Апрель') or (1<=a<=20 and b=='Май'):   \n",
    "    print('Телец')\n",
    "\n",
    "elif (21<=a<=31 and b=='Май') or (1<=a<=20 and b=='Июнь'):   \n",
    "    print('Близнецы')    \n",
    "\n",
    "elif (21<=a<=30 and b=='Июнь') or (1<=a<=22 and b=='Июль'):   \n",
    "    print('Рак')\n",
    "\n",
    "elif (23<=a<=31 and b=='Июль') or (1<=a<=22 and b=='Август'):   \n",
    "    print('Лев')    \n",
    "\n",
    "elif (23<=a<=31 and b=='Август') or (1<=a<=22 and b=='Сентябрь'):   \n",
    "    print('Дева') \n",
    "\n",
    "elif (23<=a<=30 and b=='Сентябрь') or (1<=a<=22 and b=='Октябрь'):   \n",
    "    print('Весы') \n",
    "    \n",
    "elif (23<=a<=31 and b=='Октябрь') or (1<=a<=21 and b=='Ноябрь'):   \n",
    "    print('Скорпион') \n",
    "    \n",
    "elif (22<=a<=30 and b=='Ноябрь') or (1<=a<=21 and b=='Декабрь'):   \n",
    "    print('Стрелец') \n",
    "\n",
    "elif (22<=a<=31 and b=='Декабрь') or (1<=a<=19 and b=='Январь'):   \n",
    "    print('Козерог') \n",
    "\n",
    "elif (20<=a<=31 and b=='Январь') or (1<=a<=18 and b=='Февраль'):   \n",
    "    print('Водолей') \n",
    "    \n",
    "elif (19<=a<=29 and b=='Февраль') or (1<=a<=20 and b=='Март'):   \n",
    "    print('Рыбы')\n",
    "    \n",
    "else:\n",
    "    print('Проверьте дату')"
   ]
  },
  {
   "cell_type": "markdown",
   "metadata": {},
   "source": [
    "# Задание 4"
   ]
  },
  {
   "cell_type": "code",
   "execution_count": 5,
   "metadata": {},
   "outputs": [
    {
     "name": "stdout",
     "output_type": "stream",
     "text": [
      "Упаковка для лыж\n"
     ]
    }
   ],
   "source": [
    "width = 45\n",
    "length = 205\n",
    "height = 45\n",
    "if width<15 and length<15 and height<15:\n",
    "    print('Коробка №1')\n",
    "elif length>200:\n",
    "    print('Упаковка для лыж')\n",
    "elif 15<width<50 or 15<length<50 or 15<height<50:\n",
    "    print('Коробка №2')\n",
    "else:\n",
    "    print('Стандартная коробка №3')"
   ]
  },
  {
   "cell_type": "markdown",
   "metadata": {},
   "source": [
    "# Задание 5"
   ]
  },
  {
   "cell_type": "code",
   "execution_count": 3,
   "metadata": {},
   "outputs": [
    {
     "name": "stdout",
     "output_type": "stream",
     "text": [
      "Введите номер билета 567765\n",
      "Счастливый билет\n"
     ]
    }
   ],
   "source": [
    "a=input('Введите номер билета ')\n",
    "if len(a)!=6:\n",
    "    print('Некорретный номер билета')\n",
    "else:\n",
    "    b=int(a[0])+int(a[1])+int(a[2]) \n",
    "    c=int(a[3])+int(a[4])+int(a[5])\n",
    "\n",
    "    if b==c:\n",
    "        print('Счастливый билет')\n",
    "    else:\n",
    "        print('Несчастливый билет')    "
   ]
  }
 ],
 "metadata": {
  "kernelspec": {
   "display_name": "Python 3",
   "language": "python",
   "name": "python3"
  },
  "language_info": {
   "codemirror_mode": {
    "name": "ipython",
    "version": 3
   },
   "file_extension": ".py",
   "mimetype": "text/x-python",
   "name": "python",
   "nbconvert_exporter": "python",
   "pygments_lexer": "ipython3",
   "version": "3.8.3"
  }
 },
 "nbformat": 4,
 "nbformat_minor": 4
}
