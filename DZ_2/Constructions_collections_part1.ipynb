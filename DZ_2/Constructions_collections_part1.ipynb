{
 "cells": [
  {
   "cell_type": "markdown",
   "metadata": {},
   "source": [
    "Задание 1"
   ]
  },
  {
   "cell_type": "code",
   "execution_count": 53,
   "metadata": {},
   "outputs": [
    {
     "name": "stdout",
     "output_type": "stream",
     "text": [
      "sp\n"
     ]
    }
   ],
   "source": [
    "word = 'atmosphere'\n",
    "a = len(word)\n",
    "if a%2 == 0:\n",
    "    b = word[a//2-1] + word[a//2]\n",
    "    print(b)\n",
    "else:\n",
    "    c = word[len(word)//2]\n",
    "    print(c)"
   ]
  },
  {
   "cell_type": "markdown",
   "metadata": {},
   "source": [
    "Задание 2"
   ]
  },
  {
   "cell_type": "code",
   "execution_count": 87,
   "metadata": {},
   "outputs": [
    {
     "name": "stdout",
     "output_type": "stream",
     "text": [
      "Введите число 3\n",
      "Введите число 4\n",
      "Введите число 2\n",
      "Введите число 0\n",
      "Результат: 9\n"
     ]
    }
   ],
   "source": [
    "number = int(input('Введите число '))\n",
    "a = 0\n",
    "while number != 0:\n",
    "    a = a + number\n",
    "    number = int(input('Введите число '))\n",
    "print('Результат:',a)"
   ]
  },
  {
   "cell_type": "markdown",
   "metadata": {},
   "source": [
    "Задание 3"
   ]
  },
  {
   "cell_type": "code",
   "execution_count": 70,
   "metadata": {},
   "outputs": [
    {
     "name": "stdout",
     "output_type": "stream",
     "text": [
      "Идеальные пары:\n",
      "Alex и Emma\n",
      "Arthur и Kate\n",
      "John и Kira\n",
      "Peter и Liza\n",
      "Richard и Trisha\n"
     ]
    }
   ],
   "source": [
    "boys = ['Peter', 'Alex', 'John', 'Arthur', 'Richard']\n",
    "girls = ['Kate', 'Liza', 'Kira', 'Emma', 'Trisha']\n",
    "if len(boys) != len(girls):\n",
    "    print('Внимание, кто-то может остаться без пары!')\n",
    "else:\n",
    "    a = sorted(boys)\n",
    "    b = sorted(girls)\n",
    "    c=list(zip(a,b))\n",
    "    print('Идеальные пары:')\n",
    "    print(c[0][0], 'и', c[0][1])\n",
    "    print(c[1][0], 'и', c[1][1])\n",
    "    print(c[2][0], 'и', c[2][1])\n",
    "    print(c[3][0], 'и', c[3][1])\n",
    "    print(c[4][0], 'и', c[4][1])"
   ]
  },
  {
   "cell_type": "markdown",
   "metadata": {},
   "source": [
    "Задание 4"
   ]
  },
  {
   "cell_type": "code",
   "execution_count": 9,
   "metadata": {
    "scrolled": true
   },
   "outputs": [
    {
     "name": "stdout",
     "output_type": "stream",
     "text": [
      "Средняя температура в странах:\n",
      " Thailand- 23.9 C \n",
      " Germany- 13.8 C \n",
      " Russia- 3.7 C \n",
      " Poland- 12.0 C\n"
     ]
    }
   ],
   "source": [
    "temp = [ ['Thailand', [75.2, 77, 78.8, 73.4, 68, 75.2, 77]], ['Germany', [57.2, 55.4, 59, 59, 53.6]],\n",
    "['Russia', [35.6, 37.4, 39.2, 41, 42.8, 39.2, 35.6]],\n",
    "['Poland', [50, 50, 53.6, 57.2, 55.4, 55.4]] ]\n",
    "\n",
    "T1 = temp[0][1]\n",
    "T2 = round((sum(T1)/len(T1)-32)/1.8,1)\n",
    "\n",
    "G1 = temp[1][1]\n",
    "G2 = round((sum(G1)/len(G1)-32)/1.8,1)\n",
    "\n",
    "R1 = temp[2][1]\n",
    "R2 = round((sum(R1)/len(R1)-32)/1.8,1)\n",
    "\n",
    "P1 = temp[3][1]\n",
    "P2 = round((sum(P1)/len(P1)-32)/1.8,1)\n",
    "\n",
    "print(f'Средняя температура в странах:\\n Thailand- {T2} C \\n Germany- {G2} C \\n Russia- {R2} C \\n Poland- {P2} C')"
   ]
  },
  {
   "cell_type": "markdown",
   "metadata": {},
   "source": [
    "Задание 6"
   ]
  },
  {
   "cell_type": "code",
   "execution_count": 107,
   "metadata": {},
   "outputs": [
    {
     "name": "stdout",
     "output_type": "stream",
     "text": [
      "Введите цифры через пробел: \n",
      "1 3 4 2 3 4 3\n",
      "Результат:\n",
      "3 4\n"
     ]
    }
   ],
   "source": [
    "number = input('Введите цифры через пробел: \\n')\n",
    "a = number.replace(' ','')\n",
    "res = []\n",
    "for i in a:\n",
    "    if a.count(i)>1 and i not in res:\n",
    "        res.append(i)\n",
    "print('Результат:')\n",
    "print(' '.join(res))"
   ]
  }
 ],
 "metadata": {
  "kernelspec": {
   "display_name": "Python 3",
   "language": "python",
   "name": "python3"
  },
  "language_info": {
   "codemirror_mode": {
    "name": "ipython",
    "version": 3
   },
   "file_extension": ".py",
   "mimetype": "text/x-python",
   "name": "python",
   "nbconvert_exporter": "python",
   "pygments_lexer": "ipython3",
   "version": "3.8.3"
  }
 },
 "nbformat": 4,
 "nbformat_minor": 4
}
