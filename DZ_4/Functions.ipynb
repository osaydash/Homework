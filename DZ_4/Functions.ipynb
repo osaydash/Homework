{
 "cells": [
  {
   "cell_type": "code",
   "execution_count": 127,
   "metadata": {},
   "outputs": [
    {
     "name": "stdout",
     "output_type": "stream",
     "text": [
      "Введите команду:\n",
      "p\n",
      "Введите номер документа:\n",
      "11-2\n",
      "Владелец документа: Геннадий Покемонов\n"
     ]
    }
   ],
   "source": [
    "def main_program(command):\n",
    "    if command == \"p\":\n",
    "        document = input(\"Введите номер документа:\\n\")\n",
    "        find_owner(document)\n",
    "        \n",
    "    elif command == 's':\n",
    "        answer = input(\"Введите номер документа:\\n\")\n",
    "        shelf_number(answer)\n",
    "        \n",
    "    elif command == 'l':\n",
    "        full_info()\n",
    "    \n",
    "    elif command == 'as':\n",
    "        y = input(\"Введите номер полки:\\n\")\n",
    "        new_shelf(y)\n",
    "        \n",
    "    elif command == 'ds':\n",
    "        p = input(\"Введите номер полки:\\n\")\n",
    "        del_shelf(p)\n",
    "        \n",
    "    else:\n",
    "        print(\"Введите другую команду\")\n",
    "command = input(\"Введите команду:\\n\")\n",
    "main_program(command)"
   ]
  },
  {
   "cell_type": "code",
   "execution_count": 117,
   "metadata": {},
   "outputs": [
    {
     "name": "stdout",
     "output_type": "stream",
     "text": [
      "Владелец документа: Аристарх Павлов\n"
     ]
    }
   ],
   "source": [
    "\"\"\"\n",
    "Узнать владельца документа по его номеру.\n",
    "\"\"\"\n",
    "documents = [\n",
    "{'type': 'passport', 'number': '2207 876234', 'name': 'Василий Гупкин'},\n",
    "{'type': 'invoice', 'number': '11-2', 'name': 'Геннадий Покемонов'},\n",
    "{'type': 'insurance', 'number': '10006', 'name': 'Аристарх Павлов'}\n",
    "]\n",
    "\n",
    "def find_owner(document):\n",
    "    for i in documents:\n",
    "        for key, value in i.items():\n",
    "            if document == i['number']:\n",
    "                print ('Владелец документа:', i['name'])\n",
    "                return\n",
    "    print('Документ не найден в базе')       \n",
    "find_owner('10006')"
   ]
  },
  {
   "cell_type": "code",
   "execution_count": 119,
   "metadata": {},
   "outputs": [
    {
     "name": "stdout",
     "output_type": "stream",
     "text": [
      "Документ хранится на 2 полке\n"
     ]
    }
   ],
   "source": [
    "\"\"\"\n",
    "Узнать по номеру документа, на какой полке он хранится.\n",
    "\"\"\"\n",
    "\n",
    "directories = {\n",
    "'1': ['2207 876234', '11-2'],\n",
    "'2': ['10006'],\n",
    "'3': []\n",
    "}\n",
    "\n",
    "def shelf_number(answer):\n",
    "    for shelf,doc_numb in directories.items():\n",
    "        for i in doc_numb:\n",
    "            if i == answer:\n",
    "                print ('Документ хранится на',shelf,'полке')\n",
    "                return\n",
    "    print('Документ не найден в базе')\n",
    "shelf_number(answer)"
   ]
  },
  {
   "cell_type": "code",
   "execution_count": 120,
   "metadata": {},
   "outputs": [
    {
     "data": {
      "text/plain": [
       "'2'"
      ]
     },
     "execution_count": 120,
     "metadata": {},
     "output_type": "execute_result"
    }
   ],
   "source": [
    "\"\"\"\n",
    "Полная инфо по всем документам. Часть 1\n",
    "\"\"\"\n",
    "\n",
    "directories = {\n",
    "'1': ['2207 876234', '11-2'],\n",
    "'2': ['10006'],\n",
    "'3': []\n",
    "}\n",
    "\n",
    "def function_1(x):\n",
    "    for shelf,doc_numb in directories.items():\n",
    "        for i in doc_numb:\n",
    "            if x == i:\n",
    "                return shelf\n",
    "function_1('10006')"
   ]
  },
  {
   "cell_type": "code",
   "execution_count": 121,
   "metadata": {},
   "outputs": [
    {
     "name": "stdout",
     "output_type": "stream",
     "text": [
      "№ 2207 876234 , тип: passport , владелец: Василий Гупкин , полка хранения: 1\n",
      "№ 11-2 , тип: invoice , владелец: Геннадий Покемонов , полка хранения: 1\n",
      "№ 10006 , тип: insurance , владелец: Аристарх Павлов , полка хранения: 2\n"
     ]
    }
   ],
   "source": [
    "\"\"\"\n",
    "Полная инфо по всем документам. Часть 2\n",
    "\"\"\"\n",
    "\n",
    "documents = [\n",
    "{'type': 'passport', 'number': '2207 876234', 'name': 'Василий Гупкин'},\n",
    "{'type': 'invoice', 'number': '11-2', 'name': 'Геннадий Покемонов'},\n",
    "{'type': 'insurance', 'number': '10006', 'name': 'Аристарх Павлов'}\n",
    "]\n",
    "\n",
    "def full_info():\n",
    "    for doc in documents:\n",
    "        x = doc['number']\n",
    "        print('№',doc['number'],',','тип:',doc['type'],',','владелец:',doc['name'],',','полка хранения:',function_1(x))\n",
    "full_info()"
   ]
  },
  {
   "cell_type": "code",
   "execution_count": 122,
   "metadata": {},
   "outputs": [
    {
     "name": "stdout",
     "output_type": "stream",
     "text": [
      "Полка добавлена. Текущий перечень полок: 1 2 3 7\n"
     ]
    }
   ],
   "source": [
    "\"\"\"\n",
    "Добавление новой полки.\n",
    "\"\"\"\n",
    "\n",
    "directories = {\n",
    "'1': ['2207 876234', '11-2'],\n",
    "'2': ['10006'],\n",
    "'3': []\n",
    "}\n",
    "\n",
    "def new_shelf(y):\n",
    "    for shelf,doc_numb in directories.items():\n",
    "        if y in directories:                \n",
    "            print ('Такая полка уже существует. Текущий перечень полок:',*directories.keys(),sep=' ')\n",
    "            return\n",
    "        directories.setdefault(y,[])\n",
    "        print ('Полка добавлена. Текущий перечень полок:',*directories.keys(),sep=' ')\n",
    "        return\n",
    "new_shelf(y)"
   ]
  },
  {
   "cell_type": "code",
   "execution_count": 123,
   "metadata": {},
   "outputs": [
    {
     "name": "stdout",
     "output_type": "stream",
     "text": [
      "Полка удалена. Текущий перечень полок: 1 2\n"
     ]
    }
   ],
   "source": [
    "\"\"\"\n",
    "Удаление пустой полки.\n",
    "\"\"\"\n",
    "\n",
    "directories = {\n",
    "'1': ['2207 876234', '11-2'],\n",
    "'2': ['10006'],\n",
    "'3': []\n",
    "}\n",
    "\n",
    "def del_shelf(p):\n",
    "    for shelf,doc_numb in directories.items():\n",
    "        if p in directories:\n",
    "            zz = directories.get(p)\n",
    "            if zz == []:\n",
    "                del(directories[p])\n",
    "                print('Полка удалена. Текущий перечень полок:',*directories.keys(),sep=' ')\n",
    "                return\n",
    "            else:\n",
    "                print('На полке есть документы, удалите их перед удалением полки. Текущий перечень полок:',*directories.keys(),sep=' ')\n",
    "                return\n",
    "    print ('Такой полки не существует. Текущий перечень полок:',*directories.keys(),sep=' ')\n",
    "    return\n",
    "del_shelf(p)"
   ]
  }
 ],
 "metadata": {
  "kernelspec": {
   "display_name": "Python 3",
   "language": "python",
   "name": "python3"
  },
  "language_info": {
   "codemirror_mode": {
    "name": "ipython",
    "version": 3
   },
   "file_extension": ".py",
   "mimetype": "text/x-python",
   "name": "python",
   "nbconvert_exporter": "python",
   "pygments_lexer": "ipython3",
   "version": "3.8.5"
  }
 },
 "nbformat": 4,
 "nbformat_minor": 4
}
