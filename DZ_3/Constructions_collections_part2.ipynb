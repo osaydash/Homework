{
 "cells": [
  {
   "cell_type": "markdown",
   "metadata": {},
   "source": [
    "Задача 1"
   ]
  },
  {
   "cell_type": "code",
   "execution_count": 100,
   "metadata": {},
   "outputs": [
    {
     "data": {
      "text/plain": [
       "{15, 35, 54, 98, 119, 213}"
      ]
     },
     "execution_count": 100,
     "metadata": {},
     "output_type": "execute_result"
    }
   ],
   "source": [
    "ids = {'user1': [213, 213, 213, 15, 213],\n",
    "       'user2': [54, 54, 119, 119, 119],\n",
    "       'user3': [213, 98, 98, 35]}\n",
    "new_list = []\n",
    "for value in ids.values():\n",
    "    for i in value:\n",
    "         new_list.append(i)\n",
    "set(new_list)"
   ]
  },
  {
   "cell_type": "markdown",
   "metadata": {},
   "source": [
    "Задача 2"
   ]
  },
  {
   "cell_type": "code",
   "execution_count": 38,
   "metadata": {},
   "outputs": [
    {
     "name": "stdout",
     "output_type": "stream",
     "text": [
      "Поисковых запросов, содержащих 2 слов(а): 42.86 %\n",
      "Поисковых запросов, содержащих 3 слов(а): 57.14 %\n"
     ]
    }
   ],
   "source": [
    "queries = [\n",
    "'смотреть сериалы онлайн',\n",
    "'новости спорта',\n",
    "'афиша кино',\n",
    "'курс доллара',\n",
    "'сериалы этим летом',\n",
    "'курс по питону',\n",
    "'сериалы про спорт',]\n",
    "\n",
    "new = []\n",
    "for ii, phrase in enumerate(queries):\n",
    "    new.append((len(queries[ii].split(' '))))\n",
    "\n",
    "res = []\n",
    "for i in set(new):\n",
    "    a = new.count(i)\n",
    "    res.append(a)\n",
    "    b=round(a/len(new)*100,2)\n",
    "    print('Поисковых запросов, содержащих',i, 'слов(а):', b,'%')"
   ]
  },
  {
   "cell_type": "markdown",
   "metadata": {},
   "source": [
    "Задача 3"
   ]
  },
  {
   "cell_type": "code",
   "execution_count": 117,
   "metadata": {},
   "outputs": [
    {
     "data": {
      "text/plain": [
       "{'vk': {'revenue': 103, 'cost': 98, 'ROI': 5.1},\n",
       " 'yandex': {'revenue': 179, 'cost': 153, 'ROI': 16.99},\n",
       " 'facebook': {'revenue': 103, 'cost': 110, 'ROI': -6.36},\n",
       " 'adwords': {'revenue': 35, 'cost': 34, 'ROI': 2.94},\n",
       " 'twitter': {'revenue': 11, 'cost': 24, 'ROI': -54.17}}"
      ]
     },
     "execution_count": 117,
     "metadata": {},
     "output_type": "execute_result"
    }
   ],
   "source": [
    "results = {\n",
    "'vk': {'revenue': 103, 'cost': 98},\n",
    "'yandex': {'revenue': 179, 'cost': 153},\n",
    "'facebook': {'revenue': 103, 'cost': 110},\n",
    "'adwords': {'revenue': 35, 'cost': 34},\n",
    "'twitter': {'revenue': 11, 'cost': 24},\n",
    "}\n",
    "\n",
    "for sn, info in results.items():\n",
    "    a = results[sn]['revenue']\n",
    "    b = results[sn]['cost']\n",
    "    c = round((a/b-1)*100,2)\n",
    "    info ['ROI'] = c\n",
    "        \n",
    "results"
   ]
  },
  {
   "cell_type": "markdown",
   "metadata": {},
   "source": [
    "Задача 4"
   ]
  },
  {
   "cell_type": "code",
   "execution_count": 1,
   "metadata": {},
   "outputs": [
    {
     "name": "stdout",
     "output_type": "stream",
     "text": [
      "Максимальный объём продаж на рекламном канале: vk\n"
     ]
    }
   ],
   "source": [
    "stats = {'facebook': 55, 'yandex': 115, 'vk': 120, 'google': 99, 'email': 42, 'ok': 98}\n",
    "a = max(list(stats.values()))\n",
    "new = list(stats.items())\n",
    "\n",
    "for i in new:\n",
    "    if i[1] == a:\n",
    "        b = i[0]\n",
    "print('Максимальный объём продаж на рекламном канале:',b)"
   ]
  },
  {
   "cell_type": "markdown",
   "metadata": {},
   "source": [
    "Задача 6"
   ]
  },
  {
   "cell_type": "code",
   "execution_count": 40,
   "metadata": {
    "scrolled": true
   },
   "outputs": [
    {
     "name": "stdout",
     "output_type": "stream",
     "text": [
      "Введите количество порций \n",
      "3\n",
      "Сколько требуется ингредиентов:\n",
      "Сыр : 210 гр\n",
      "Томаты : 6 шт\n",
      "Огурцы : 60 гр\n",
      "Маслины : 30 гр\n",
      "Оливковое масло : 60 мл\n",
      "Салат : 30 гр\n",
      "Перец : 60 гр\n",
      "Колбаса : 90 гр\n",
      "Бекон : 90 гр\n",
      "Оливки : 30 гр\n",
      "Томаты : 60 гр\n",
      "Тесто : 300 гр\n",
      "Лимон : 3 шт\n",
      "Вода : 600 мл\n",
      "Сахар : 30 гр\n",
      "Лайм : 60 гр\n"
     ]
    }
   ],
   "source": [
    "cook_book = {\n",
    "'салат': [\n",
    "{'ingridient_name': 'сыр', 'quantity': 50, 'measure': 'гр'},\n",
    "{'ingridient_name': 'томаты', 'quantity': 2, 'measure': 'шт'},\n",
    "{'ingridient_name': 'огурцы', 'quantity': 20, 'measure': 'гр'},\n",
    "{'ingridient_name': 'маслины', 'quantity': 10, 'measure': 'гр'},\n",
    "{'ingridient_name': 'оливковое масло', 'quantity': 20, 'measure': 'мл'},\n",
    "{'ingridient_name': 'салат', 'quantity': 10, 'measure': 'гр'},\n",
    "{'ingridient_name': 'перец', 'quantity': 20, 'measure': 'гр'}\n",
    "],\n",
    "'пицца': [\n",
    "{'ingridient_name': 'сыр', 'quantity': 20, 'measure': 'гр'},\n",
    "{'ingridient_name': 'колбаса', 'quantity': 30, 'measure': 'гр'},\n",
    "{'ingridient_name': 'бекон', 'quantity': 30, 'measure': 'гр'},\n",
    "{'ingridient_name': 'оливки', 'quantity': 10, 'measure': 'гр'},\n",
    "{'ingridient_name': 'томаты', 'quantity': 20, 'measure': 'гр'},\n",
    "{'ingridient_name': 'тесто', 'quantity': 100, 'measure': 'гр'},\n",
    "],\n",
    "'лимонад': [\n",
    "{'ingridient_name': 'лимон', 'quantity': 1, 'measure': 'шт'},\n",
    "{'ingridient_name': 'вода', 'quantity': 200, 'measure': 'мл'},\n",
    "{'ingridient_name': 'сахар', 'quantity': 10, 'measure': 'гр'},\n",
    "{'ingridient_name': 'лайм', 'quantity': 20, 'measure': 'гр'},\n",
    "]\n",
    "}\n",
    "ola = {}\n",
    "for dish, ingridient_list in cook_book.items():\n",
    "    for ingridient in ingridient_list:\n",
    "        k = ingridient['ingridient_name'],ingridient['measure']\n",
    "        v = ingridient['quantity']\n",
    "        ola[k] = ola.setdefault(k,0) + v\n",
    "\n",
    "a = int(input('Введите количество порций \\n'))\n",
    "print('Сколько требуется ингредиентов:')\n",
    "for d, q in ola.items():\n",
    "    print(d[0].capitalize(),':',q*a,d[1])"
   ]
  }
 ],
 "metadata": {
  "kernelspec": {
   "display_name": "Python 3",
   "language": "python",
   "name": "python3"
  },
  "language_info": {
   "codemirror_mode": {
    "name": "ipython",
    "version": 3
   },
   "file_extension": ".py",
   "mimetype": "text/x-python",
   "name": "python",
   "nbconvert_exporter": "python",
   "pygments_lexer": "ipython3",
   "version": "3.8.3"
  }
 },
 "nbformat": 4,
 "nbformat_minor": 4
}
